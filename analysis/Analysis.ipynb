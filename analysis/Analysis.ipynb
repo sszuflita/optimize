{
 "metadata": {
  "name": "",
  "signature": "sha256:9e6d18c5de15dddf121b5fdf7ae39351782708dccb957505b8b593fdcf121df6"
 },
 "nbformat": 3,
 "nbformat_minor": 0,
 "worksheets": [
  {
   "cells": [
    {
     "cell_type": "code",
     "collapsed": false,
     "input": [
      "import numpy as np\n",
      "import matplotlib.pyplot as plt"
     ],
     "language": "python",
     "metadata": {},
     "outputs": [],
     "prompt_number": 2
    },
    {
     "cell_type": "code",
     "collapsed": false,
     "input": [
      "data = np.genfromtxt(\"benchmark.csv\", delimiter = \",\")\n",
      "N = data[:, 0]\n",
      "cpu_times = data[:, 1]\n",
      "gpu_times = data[:, 2]"
     ],
     "language": "python",
     "metadata": {},
     "outputs": [],
     "prompt_number": 7
    },
    {
     "cell_type": "code",
     "collapsed": false,
     "input": [
      "plt.scatter(log(N[:7]), gpu_times[:7], marker='o')\n",
      "plt.scatter(log(N[:7]), cpu_times[:7], c='red', marker='+')\n",
      "plt.xlabel('N')\n",
      "plt.ylabel('Time (ms)')\n",
      "plt.ylim([0, 300])"
     ],
     "language": "python",
     "metadata": {},
     "outputs": [
      {
       "metadata": {},
       "output_type": "pyout",
       "prompt_number": 34,
       "text": [
        "(0, 300)"
       ]
      },
      {
       "metadata": {},
       "output_type": "display_data",
       "png": "[encoded data removed]",
       "text": [
        "<matplotlib.figure.Figure at 0x10802e610>"
       ]
      }
     ],
     "prompt_number": 34
    },
    {
     "cell_type": "code",
     "collapsed": false,
     "input": [
      "plt.scatter(log(N), gpu_times, marker='o')\n",
      "plt.scatter(log(N), cpu_times, c='red', marker='+')\n",
      "plt.xlabel('N')\n",
      "plt.ylabel('Time (ms)')"
     ],
     "language": "python",
     "metadata": {},
     "outputs": [
      {
       "metadata": {},
       "output_type": "pyout",
       "prompt_number": 33,
       "text": [
        "<matplotlib.text.Text at 0x10712c650>"
       ]
      },
      {
       "metadata": {},
       "output_type": "display_data",
       "png": "[encoded data removed]",
       "text": [
        "<matplotlib.figure.Figure at 0x107f24a90>"
       ]
      }
     ],
     "prompt_number": 33
    },
    {
     "cell_type": "code",
     "collapsed": false,
     "input": [],
     "language": "python",
     "metadata": {},
     "outputs": []
    }
   ],
   "metadata": {}
  }
 ]
}